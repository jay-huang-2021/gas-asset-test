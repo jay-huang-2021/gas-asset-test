{
 "cells": [
  {
   "cell_type": "code",
   "execution_count": 1,
   "metadata": {},
   "outputs": [
    {
     "name": "stderr",
     "output_type": "stream",
     "text": [
      "C:\\ProgramData\\Anaconda3\\lib\\site-packages\\IPython\\core\\interactiveshell.py:2698: DtypeWarning: Columns (14) have mixed types. Specify dtype option on import or set low_memory=False.\n",
      "  interactivity=interactivity, compiler=compiler, result=result)\n"
     ]
    }
   ],
   "source": [
    "import pandas as pd\n",
    "import numpy as np\n",
    "\n",
    "#Load data\n",
    "df = pd.read_csv(\"DataLayer_Results_New_Gui.csv\")"
   ]
  },
  {
   "cell_type": "code",
   "execution_count": 2,
   "metadata": {},
   "outputs": [
    {
     "name": "stderr",
     "output_type": "stream",
     "text": [
      "C:\\ProgramData\\Anaconda3\\lib\\site-packages\\ipykernel_launcher.py:18: SettingWithCopyWarning: \n",
      "A value is trying to be set on a copy of a slice from a DataFrame\n",
      "\n",
      "See the caveats in the documentation: http://pandas.pydata.org/pandas-docs/stable/indexing.html#indexing-view-versus-copy\n",
      "C:\\ProgramData\\Anaconda3\\lib\\site-packages\\ipykernel_launcher.py:19: SettingWithCopyWarning: \n",
      "A value is trying to be set on a copy of a slice from a DataFrame\n",
      "\n",
      "See the caveats in the documentation: http://pandas.pydata.org/pandas-docs/stable/indexing.html#indexing-view-versus-copy\n"
     ]
    }
   ],
   "source": [
    "#Create empty DataFrame\n",
    "df_transform = pd.DataFrame()\n",
    "#save for reference\n",
    "length = len(df)\n",
    "#List for leaks naming\n",
    "names = [\"_2013\", \"_2014\", \"_2015\", \"_2016\", \"_2017\", \"_H_2013\", \"_H_2014\", \n",
    "         \"_H_2015\", \"_H_2016\", \"_H_2017\"]\n",
    "\n",
    "#Iterate through columns (up to SERV_MECHFIT_LEAKS), check to add, drop, or transform\n",
    "for column in df.columns[:df.columns.get_loc(\"SERV_MECHFIT_LEAKS\")+1]:\n",
    "    \n",
    "    #Drop column if only 1 unique value\n",
    "    if df[column].nunique() == 1:\n",
    "        pass #do nothing\n",
    "    \n",
    "    #Transform column with Y/N to 1/0\n",
    "    elif (('N' in list(df[column])) & ('Y' in list(df[column]))):\n",
    "        df[column][df[column] == 'Y'] = 1\n",
    "        df[column][df[column] == 'N'] = 0\n",
    "        df_transform[column] = df[column]\n",
    "        \n",
    "    #If column ends with LEAKS\n",
    "    elif column[-5:] == \"LEAKS\":\n",
    "        \n",
    "        #Add column if it's a single int\n",
    "        if np.issubdtype(df[column].dtype, np.number):\n",
    "            df_transform[column] = df[column]\n",
    "            \n",
    "        #Don't add if it contains less than 5 non-zero strings\n",
    "        elif (length - list(df[column]).count('0,0,0,0,0,0,0,0,0,0') <= 5):\n",
    "            pass\n",
    "        \n",
    "        #Else split into 10 columns and add\n",
    "        else:\n",
    "            df_transform[[column + name for name in names]] = pd.DataFrame(list(df[column].str.split(',')))\n",
    "                \n",
    "    #Add all other columns\n",
    "    else:\n",
    "        df_transform[column] = df[column]"
   ]
  },
  {
   "cell_type": "code",
   "execution_count": 3,
   "metadata": {
    "collapsed": true
   },
   "outputs": [],
   "source": [
    "#Fix columns with mixed datatypes and null values\n",
    "\n",
    "#Replace nans in COAL_MINE with \"Not Coal Mine\"\n",
    "df_transform[\"COAL_MINE\"] = df[\"COAL_MINE\"].fillna(\"Not Coal Mine\")\n",
    "\n",
    "#Remove commas from SYSTEM_NUM\n",
    "df_transform[\"SYSTEM_NUM\"] = df_transform[\"SYSTEM_NUM\"].str.replace(\",\",\"\")\n",
    "\n",
    "#Remove commas from CP_DAYS_DEFICIENT\n",
    "df_transform[\"CP_DAYS_DEFICIENT\"] = df_transform[\"CP_DAYS_DEFICIENT\"].str.replace(\",\",\"\")\n",
    "\n",
    "#Remove commas from POP_DENSITY\n",
    "df_transform[\"POP_DENSITY\"] = df_transform[\"POP_DENSITY\"].str.replace(\",\",\"\")\n",
    "\n",
    "#Remove commas from RISK_AREA_FT\n",
    "df_transform[\"RISK_AREA_FT\"] = df_transform[\"RISK_AREA_FT\"].str.replace(\",\",\"\")\n",
    "\n",
    "#Remove commas from DECADE\n",
    "df_transform[\"DECADE\"] = df_transform[\"DECADE\"].str.replace(\",\",\"\")"
   ]
  },
  {
   "cell_type": "code",
   "execution_count": 4,
   "metadata": {
    "collapsed": true
   },
   "outputs": [],
   "source": [
    "#Create ClASS column from FACILITY_CLASS and PRESS_CLASS\n",
    "\n",
    "scenarios = [('DISTRIBUTION','FEEDER','HPD'),\n",
    "             ('DISTRIBUTION','INTER CITY','HPD'),\n",
    "             ('DISTRIBUTION','INTERMEDIATE 1','DISTRIBUTION'),\n",
    "             ('DISTRIBUTION','INTERMEDIATE 2','DISTRIBUTION'),\n",
    "             ('DISTRIBUTION','LOW','DISTRIBUTION'),\n",
    "             ('SERVICE','FEEDER','HPD'),\n",
    "             ('SERVICE','INTER CITY','HPD'),\n",
    "             ('SERVICE','INTERMEDIATE 1','DISTRIBUTION'),       \n",
    "             ('SERVICE','INTERMEDIATE 2','DISTRIBUTION'),\n",
    "             ('SERVICE','LOW','DISTRIBUTION'),\n",
    "             ('STORAGE','FEEDER','TRANSMISSION'),\n",
    "             ('STORAGE','INTER CITY','TRANSMISSION'),\n",
    "             ('TRANSMISSION','FEEDER','TRANSMISSION'),\n",
    "             ('TRANSMISSION','INTER CITY','TRANSMISSION')]\n",
    "\n",
    "for scenario in scenarios:\n",
    "    a, b, c = scenario\n",
    "    df_transform.loc[((df_transform['FACILITY_CLASS'] == a) & (df_transform['PRESS_CLASS'] == b)), \"CLASS\"] = c\n",
    "    \n",
    "#Drop FACILITY_CLASS and PRESS_CLASS\n",
    "df_transform.drop(['FACILITY_CLASS','PRESS_CLASS'], axis = 1, inplace = True)"
   ]
  },
  {
   "cell_type": "code",
   "execution_count": 5,
   "metadata": {},
   "outputs": [],
   "source": [
    "#Set RISK_AREA as index\n",
    "df_transform = df_transform.set_index('RISK_AREA')"
   ]
  },
  {
   "cell_type": "code",
   "execution_count": 6,
   "metadata": {
    "collapsed": true
   },
   "outputs": [],
   "source": [
    "#Write cleaned data set to csv\n",
    "df_transform.to_csv('Gas_Asset_Data_Cleaned.csv')"
   ]
  }
 ],
 "metadata": {
  "kernelspec": {
   "display_name": "Python 3",
   "language": "python",
   "name": "python3"
  },
  "language_info": {
   "codemirror_mode": {
    "name": "ipython",
    "version": 3
   },
   "file_extension": ".py",
   "mimetype": "text/x-python",
   "name": "python",
   "nbconvert_exporter": "python",
   "pygments_lexer": "ipython3",
   "version": "3.6.3"
  }
 },
 "nbformat": 4,
 "nbformat_minor": 2
}
